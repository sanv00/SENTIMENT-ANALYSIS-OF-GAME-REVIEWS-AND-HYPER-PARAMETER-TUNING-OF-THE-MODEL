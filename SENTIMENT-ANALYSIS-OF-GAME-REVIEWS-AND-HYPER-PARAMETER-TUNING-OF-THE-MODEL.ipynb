{
 "cells": [
  {
   "cell_type": "code",
   "execution_count": 1,
   "metadata": {
    "colab": {
     "base_uri": "https://localhost:8080/",
     "height": 34
    },
    "colab_type": "code",
    "executionInfo": {
     "elapsed": 4005,
     "status": "ok",
     "timestamp": 1586270405362,
     "user": {
      "displayName": "nYuker",
      "photoUrl": "https://lh3.googleusercontent.com/a-/AOh14GiL6S7ymhC6slqP1-RSNF-WfqBNVR7i50GYoomBtA=s64",
      "userId": "07887260677890672048"
     },
     "user_tz": -330
    },
    "id": "XjYmRLn7pKnK",
    "outputId": "91abd27f-5447-4f85-f506-685889a597e8"
   },
   "outputs": [
    {
     "name": "stderr",
     "output_type": "stream",
     "text": [
      "Using TensorFlow backend.\n"
     ]
    }
   ],
   "source": [
    "import numpy as np\n",
    "import pandas as pd\n",
    "import matplotlib.pyplot as plt\n",
    "%matplotlib inline\n",
    "\n",
    "from tqdm import tqdm\n",
    "\n",
    "import keras\n",
    "from keras.models import Sequential\n",
    "from keras.layers import Dense,Dropout\n",
    "from keras.optimizers import adam"
   ]
  },
  {
   "cell_type": "code",
   "execution_count": 2,
   "metadata": {
    "colab": {
     "base_uri": "https://localhost:8080/",
     "height": 121
    },
    "colab_type": "code",
    "executionInfo": {
     "elapsed": 14615,
     "status": "ok",
     "timestamp": 1586270453456,
     "user": {
      "displayName": "nYuker",
      "photoUrl": "https://lh3.googleusercontent.com/a-/AOh14GiL6S7ymhC6slqP1-RSNF-WfqBNVR7i50GYoomBtA=s64",
      "userId": "07887260677890672048"
     },
     "user_tz": -330
    },
    "id": "msQYFqITpgDq",
    "outputId": "593e8fa1-b0b5-4f77-befd-faee8c6b96f9",
    "scrolled": true
   },
   "outputs": [
    {
     "ename": "ModuleNotFoundError",
     "evalue": "No module named 'google.colab'",
     "output_type": "error",
     "traceback": [
      "\u001b[1;31m---------------------------------------------------------------------------\u001b[0m",
      "\u001b[1;31mModuleNotFoundError\u001b[0m                       Traceback (most recent call last)",
      "\u001b[1;32m<ipython-input-2-4996ee3d8d09>\u001b[0m in \u001b[0;36m<module>\u001b[1;34m\u001b[0m\n\u001b[1;32m----> 1\u001b[1;33m \u001b[1;32mfrom\u001b[0m \u001b[0mgoogle\u001b[0m\u001b[1;33m.\u001b[0m\u001b[0mcolab\u001b[0m \u001b[1;32mimport\u001b[0m \u001b[0mdrive\u001b[0m\u001b[1;33m\u001b[0m\u001b[1;33m\u001b[0m\u001b[0m\n\u001b[0m\u001b[0;32m      2\u001b[0m \u001b[0mdrive\u001b[0m\u001b[1;33m.\u001b[0m\u001b[0mmount\u001b[0m\u001b[1;33m(\u001b[0m\u001b[1;34m'/content/gdrive'\u001b[0m\u001b[1;33m)\u001b[0m\u001b[1;33m\u001b[0m\u001b[1;33m\u001b[0m\u001b[0m\n",
      "\u001b[1;31mModuleNotFoundError\u001b[0m: No module named 'google.colab'"
     ]
    }
   ],
   "source": [
    "from google.colab import drive\n",
    "drive.mount('/content/gdrive')"
   ]
  },
  {
   "cell_type": "code",
   "execution_count": null,
   "metadata": {
    "colab": {},
    "colab_type": "code",
    "id": "q2ZUOWOTlxlu"
   },
   "outputs": [],
   "source": [
    "root_path = 'gdrive/My Drive/Train.csv'"
   ]
  },
  {
   "cell_type": "code",
   "execution_count": null,
   "metadata": {
    "colab": {},
    "colab_type": "code",
    "id": "3ZfC1I05l4fQ"
   },
   "outputs": [],
   "source": [
    "data=pd.read_csv(root_path)"
   ]
  },
  {
   "cell_type": "code",
   "execution_count": null,
   "metadata": {
    "colab": {},
    "colab_type": "code",
    "id": "Qw-ETLZMeQOH"
   },
   "outputs": [],
   "source": [
    "data.head()\n",
    "text = data['text'].values"
   ]
  },
  {
   "cell_type": "code",
   "execution_count": null,
   "metadata": {
    "colab": {
     "base_uri": "https://localhost:8080/",
     "height": 195
    },
    "colab_type": "code",
    "executionInfo": {
     "elapsed": 31032,
     "status": "ok",
     "timestamp": 1584413091343,
     "user": {
      "displayName": "nYuker",
      "photoUrl": "https://lh3.googleusercontent.com/a-/AOh14GiL6S7ymhC6slqP1-RSNF-WfqBNVR7i50GYoomBtA=s64",
      "userId": "07887260677890672048"
     },
     "user_tz": -330
    },
    "id": "CBTdt6FaA19M",
    "outputId": "184ede2d-155f-4dcc-dd5d-76e73762a078"
   },
   "outputs": [],
   "source": [
    "data.head()"
   ]
  },
  {
   "cell_type": "code",
   "execution_count": null,
   "metadata": {
    "colab": {
     "base_uri": "https://localhost:8080/",
     "height": 84
    },
    "colab_type": "code",
    "executionInfo": {
     "elapsed": 38314,
     "status": "ok",
     "timestamp": 1584413098632,
     "user": {
      "displayName": "nYuker",
      "photoUrl": "https://lh3.googleusercontent.com/a-/AOh14GiL6S7ymhC6slqP1-RSNF-WfqBNVR7i50GYoomBtA=s64",
      "userId": "07887260677890672048"
     },
     "user_tz": -330
    },
    "id": "xOJjSp45-VWa",
    "outputId": "1946fc25-070e-4f05-f980-08e27392bea0"
   },
   "outputs": [],
   "source": [
    "word_list ={}\n",
    "for i in tqdm(text):\n",
    "  for j in i.split():\n",
    "    if j in word_list:\n",
    "      word_list[j] +=1\n",
    "    else:\n",
    "      word_list[j]=0\n",
    "\n",
    "\n",
    "word_index={}\n",
    "number=4\n",
    "for i in tqdm(text):\n",
    "  for j in i.split():\n",
    "    if  word_list[j] > 100:\n",
    "      if j not in word_index:\n",
    "        word_index[j]= number\n",
    "        number+=1\n",
    "\n",
    "print()\n",
    "print(\"Number of unique words in the dictionary : \",len(word_index))"
   ]
  },
  {
   "cell_type": "code",
   "execution_count": null,
   "metadata": {
    "colab": {},
    "colab_type": "code",
    "id": "-HFAywURqJXe"
   },
   "outputs": [],
   "source": [
    "# The first indices are reserved\n",
    "word_index = {k:(v+3) for k,v in word_index.items()}\n",
    "word_index[\"<PAD>\"] = 0\n",
    "word_index[\"<START>\"] = 1\n",
    "word_index[\"<UNK>\"] = 2  # unknown\n",
    "word_index[\"<UNUSED>\"] = 3\n",
    "\n",
    "reverse_word_index = dict([(value, key) for (key, value) in word_index.items()])\n",
    "\n",
    "def encode_review(text):\n",
    "  sent=[word_index[\"<START>\"]]\n",
    "  for i in text.split():\n",
    "    if i in word_index:\n",
    "      sent.append(word_index[i])\n",
    "    else:\n",
    "      sent.append(word_index['<UNUSED>'])\n",
    "  return sent\n",
    "\n",
    "def decode_review(text):\n",
    "    return ' '.join([reverse_word_index.get(i, '?') for i in text])\n"
   ]
  },
  {
   "cell_type": "code",
   "execution_count": null,
   "metadata": {
    "colab": {
     "base_uri": "https://localhost:8080/",
     "height": 34
    },
    "colab_type": "code",
    "executionInfo": {
     "elapsed": 38306,
     "status": "ok",
     "timestamp": 1584413098633,
     "user": {
      "displayName": "nYuker",
      "photoUrl": "https://lh3.googleusercontent.com/a-/AOh14GiL6S7ymhC6slqP1-RSNF-WfqBNVR7i50GYoomBtA=s64",
      "userId": "07887260677890672048"
     },
     "user_tz": -330
    },
    "id": "h2F37oiIFGfN",
    "outputId": "928b6ec9-493b-4ea8-e587-5d2790353975"
   },
   "outputs": [],
   "source": [
    "encode_review('I love this movie')"
   ]
  },
  {
   "cell_type": "code",
   "execution_count": null,
   "metadata": {
    "colab": {
     "base_uri": "https://localhost:8080/",
     "height": 34
    },
    "colab_type": "code",
    "executionInfo": {
     "elapsed": 38300,
     "status": "ok",
     "timestamp": 1584413098634,
     "user": {
      "displayName": "nYuker",
      "photoUrl": "https://lh3.googleusercontent.com/a-/AOh14GiL6S7ymhC6slqP1-RSNF-WfqBNVR7i50GYoomBtA=s64",
      "userId": "07887260677890672048"
     },
     "user_tz": -330
    },
    "id": "gDITUX4OFMSL",
    "outputId": "6dac2f81-0383-4138-f784-04eee8b727b5"
   },
   "outputs": [],
   "source": [
    "decode_review([1,13,595,104,48])"
   ]
  },
  {
   "cell_type": "code",
   "execution_count": null,
   "metadata": {
    "colab": {
     "base_uri": "https://localhost:8080/",
     "height": 34
    },
    "colab_type": "code",
    "executionInfo": {
     "elapsed": 41152,
     "status": "ok",
     "timestamp": 1584413101579,
     "user": {
      "displayName": "nYuker",
      "photoUrl": "https://lh3.googleusercontent.com/a-/AOh14GiL6S7ymhC6slqP1-RSNF-WfqBNVR7i50GYoomBtA=s64",
      "userId": "07887260677890672048"
     },
     "user_tz": -330
    },
    "id": "Hz_lQVNCqPUp",
    "outputId": "8b9338cb-2a88-46f1-ca7c-9c5b1d3df471"
   },
   "outputs": [],
   "source": [
    "train_x=[]\n",
    "for i in tqdm(text):\n",
    "  train_x.append(encode_review(i))"
   ]
  },
  {
   "cell_type": "code",
   "execution_count": null,
   "metadata": {
    "colab": {
     "base_uri": "https://localhost:8080/",
     "height": 54
    },
    "colab_type": "code",
    "executionInfo": {
     "elapsed": 42009,
     "status": "ok",
     "timestamp": 1584413102449,
     "user": {
      "displayName": "nYuker",
      "photoUrl": "https://lh3.googleusercontent.com/a-/AOh14GiL6S7ymhC6slqP1-RSNF-WfqBNVR7i50GYoomBtA=s64",
      "userId": "07887260677890672048"
     },
     "user_tz": -330
    },
    "id": "ZAt0lp0FqV-z",
    "outputId": "bb8d6405-04ba-4717-d003-75d364d986f6"
   },
   "outputs": [],
   "source": [
    "# Preparing the data for training\n",
    "\n",
    "train_data = keras.preprocessing.sequence.pad_sequences(train_x,\n",
    "                                                        value=word_index[\"<PAD>\"],\n",
    "                                                        padding='post',\n",
    "                                                        maxlen=256)\n"
   ]
  },
  {
   "cell_type": "code",
   "execution_count": null,
   "metadata": {
    "colab": {
     "base_uri": "https://localhost:8080/",
     "height": 625
    },
    "colab_type": "code",
    "executionInfo": {
     "elapsed": 42001,
     "status": "ok",
     "timestamp": 1584413102450,
     "user": {
      "displayName": "nYuker",
      "photoUrl": "https://lh3.googleusercontent.com/a-/AOh14GiL6S7ymhC6slqP1-RSNF-WfqBNVR7i50GYoomBtA=s64",
      "userId": "07887260677890672048"
     },
     "user_tz": -330
    },
    "id": "2ZnjntVfqvH4",
    "outputId": "67a3d964-24c8-4f46-ab0b-5031e1120b8c"
   },
   "outputs": [],
   "source": [
    "# Creating the model\n",
    "\n",
    "vocab_size = 10000\n",
    "\n",
    "model = keras.Sequential()\n",
    "model.add(keras.layers.Embedding(vocab_size, 16))\n",
    "model.add(keras.layers.GlobalAveragePooling1D())\n",
    "\n",
    "model.add(Dropout(0.2))\n",
    "model.add(keras.layers.Dense(16, activation='relu'))\n",
    "model.add(keras.layers.Dense(32,activation='relu'))\n",
    "model.add(Dropout(0.2))\n",
    "\n",
    "model.add(keras.layers.Dense(16,activation='relu'))\n",
    "model.add(keras.layers.Dense(1, activation='sigmoid'))\n",
    "\n",
    "model.summary()\n"
   ]
  },
  {
   "cell_type": "code",
   "execution_count": null,
   "metadata": {},
   "outputs": [],
   "source": []
  },
  {
   "cell_type": "code",
   "execution_count": null,
   "metadata": {},
   "outputs": [],
   "source": []
  },
  {
   "cell_type": "code",
   "execution_count": null,
   "metadata": {
    "colab": {
     "base_uri": "https://localhost:8080/",
     "height": 154
    },
    "colab_type": "code",
    "executionInfo": {
     "elapsed": 41989,
     "status": "ok",
     "timestamp": 1584413102450,
     "user": {
      "displayName": "nYuker",
      "photoUrl": "https://lh3.googleusercontent.com/a-/AOh14GiL6S7ymhC6slqP1-RSNF-WfqBNVR7i50GYoomBtA=s64",
      "userId": "07887260677890672048"
     },
     "user_tz": -330
    },
    "id": "brniEPB1q8ov",
    "outputId": "a26eb072-9c5d-4faf-deb5-00f23c619340"
   },
   "outputs": [],
   "source": [
    "# Compiling the model\n",
    "\n",
    "model.compile(optimizer='adam',\n",
    "              loss='binary_crossentropy',\n",
    "              metrics=['acc'])\n"
   ]
  },
  {
   "cell_type": "code",
   "execution_count": null,
   "metadata": {
    "colab": {},
    "colab_type": "code",
    "id": "lxf39_FDrJuX"
   },
   "outputs": [],
   "source": [
    "train_y = data['label'].values"
   ]
  },
  {
   "cell_type": "code",
   "execution_count": null,
   "metadata": {
    "colab": {
     "base_uri": "https://localhost:8080/",
     "height": 1000
    },
    "colab_type": "code",
    "executionInfo": {
     "elapsed": 115401,
     "status": "ok",
     "timestamp": 1584413175876,
     "user": {
      "displayName": "nYuker",
      "photoUrl": "https://lh3.googleusercontent.com/a-/AOh14GiL6S7ymhC6slqP1-RSNF-WfqBNVR7i50GYoomBtA=s64",
      "userId": "07887260677890672048"
     },
     "user_tz": -330
    },
    "id": "I2WZDYmErPZk",
    "outputId": "38f06ffa-b49a-41ac-8655-4ed759386bd8"
   },
   "outputs": [],
   "source": [
    "history = model.fit(train_data,\n",
    "                    train_y,\n",
    "                    epochs=50,\n",
    "                    validation_split=0.2,\n",
    "                    batch_size=512,\n",
    "                    verbose=1)\n"
   ]
  },
  {
   "cell_type": "code",
   "execution_count": null,
   "metadata": {
    "colab": {},
    "colab_type": "code",
    "id": "mFfHmQ5qrbXi"
   },
   "outputs": [],
   "source": [
    "# Now we need to load our dataset and try to predict the sentiment\n",
    "# That is to predict the sentiment of the game reviews"
   ]
  },
  {
   "cell_type": "code",
   "execution_count": null,
   "metadata": {
    "colab": {
     "base_uri": "https://localhost:8080/",
     "height": 50
    },
    "colab_type": "code",
    "executionInfo": {
     "elapsed": 115391,
     "status": "ok",
     "timestamp": 1584413175877,
     "user": {
      "displayName": "nYuker",
      "photoUrl": "https://lh3.googleusercontent.com/a-/AOh14GiL6S7ymhC6slqP1-RSNF-WfqBNVR7i50GYoomBtA=s64",
      "userId": "07887260677890672048"
     },
     "user_tz": -330
    },
    "id": "qdCnNC9Zsrov",
    "outputId": "37fc732b-e1e5-4a85-afcb-9855f332fca1"
   },
   "outputs": [],
   "source": [
    "print(encode_review('hello there'))\n",
    "\n",
    "decode_review(encode_review(\"hello there\"))"
   ]
  },
  {
   "cell_type": "code",
   "execution_count": null,
   "metadata": {
    "colab": {
     "base_uri": "https://localhost:8080/",
     "height": 34
    },
    "colab_type": "code",
    "executionInfo": {
     "elapsed": 115386,
     "status": "ok",
     "timestamp": 1584413175878,
     "user": {
      "displayName": "nYuker",
      "photoUrl": "https://lh3.googleusercontent.com/a-/AOh14GiL6S7ymhC6slqP1-RSNF-WfqBNVR7i50GYoomBtA=s64",
      "userId": "07887260677890672048"
     },
     "user_tz": -330
    },
    "id": "D_qRRGmNsxhH",
    "outputId": "f2bb5c40-46f1-4b4d-a777-04e0d9be1d2a"
   },
   "outputs": [],
   "source": [
    "emb = keras.preprocessing.sequence.pad_sequences([encode_review('Though it was bad we enjoyed the movie and we liked it')],\n",
    "                                                       value=word_index[\"<PAD>\"],\n",
    "                                                       padding='post',\n",
    "                                                       maxlen=256)\n",
    "\n",
    "\n",
    "model.predict(emb)"
   ]
  },
  {
   "cell_type": "code",
   "execution_count": null,
   "metadata": {
    "colab": {},
    "colab_type": "code",
    "id": "R-XQUWm6tIrJ"
   },
   "outputs": [],
   "source": [
    "def classify(text):\n",
    "  emb = keras.preprocessing.sequence.pad_sequences([encode_review(text)],\n",
    "                                                  value=word_index['<PAD>'],\n",
    "                                                  padding='post',\n",
    "                                                  maxlen=256)\n",
    "  \n",
    "  pred = model.predict(emb)\n",
    "  \n",
    "  #print(\"prediction obtained : \", pred)\n",
    "  \n",
    "  if (pred*100) >50.0 :\n",
    "    #print(\"Positive review\")\n",
    "    return \"positive\"\n",
    "  else:\n",
    "    #print(\"Negative review\")\n",
    "    return \"negative\"\n",
    " "
   ]
  },
  {
   "cell_type": "code",
   "execution_count": null,
   "metadata": {
    "colab": {
     "base_uri": "https://localhost:8080/",
     "height": 34
    },
    "colab_type": "code",
    "executionInfo": {
     "elapsed": 115378,
     "status": "ok",
     "timestamp": 1584413175878,
     "user": {
      "displayName": "nYuker",
      "photoUrl": "https://lh3.googleusercontent.com/a-/AOh14GiL6S7ymhC6slqP1-RSNF-WfqBNVR7i50GYoomBtA=s64",
      "userId": "07887260677890672048"
     },
     "user_tz": -330
    },
    "id": "K8zeJqkZtNED",
    "outputId": "180e4505-ff2a-43c1-ceb9-75e9b57f1592"
   },
   "outputs": [],
   "source": [
    "classify(\"I dont like this game\")"
   ]
  },
  {
   "cell_type": "code",
   "execution_count": null,
   "metadata": {
    "colab": {
     "base_uri": "https://localhost:8080/",
     "height": 34
    },
    "colab_type": "code",
    "executionInfo": {
     "elapsed": 115373,
     "status": "ok",
     "timestamp": 1584413175879,
     "user": {
      "displayName": "nYuker",
      "photoUrl": "https://lh3.googleusercontent.com/a-/AOh14GiL6S7ymhC6slqP1-RSNF-WfqBNVR7i50GYoomBtA=s64",
      "userId": "07887260677890672048"
     },
     "user_tz": -330
    },
    "id": "YuKye-4zHSYU",
    "outputId": "bac281e9-45c8-4cac-e76c-e5157466c734"
   },
   "outputs": [],
   "source": [
    "classify('Though it was bad we enjoyed the movie and we liked it')"
   ]
  },
  {
   "cell_type": "code",
   "execution_count": null,
   "metadata": {
    "colab": {},
    "colab_type": "code",
    "id": "xMQAgYL2ukkQ"
   },
   "outputs": [],
   "source": [
    "\n",
    "# load the review of the dataset and make the prediction as show above"
   ]
  },
  {
   "cell_type": "code",
   "execution_count": null,
   "metadata": {
    "colab": {
     "base_uri": "https://localhost:8080/",
     "height": 295
    },
    "colab_type": "code",
    "executionInfo": {
     "elapsed": 115363,
     "status": "ok",
     "timestamp": 1584413175880,
     "user": {
      "displayName": "nYuker",
      "photoUrl": "https://lh3.googleusercontent.com/a-/AOh14GiL6S7ymhC6slqP1-RSNF-WfqBNVR7i50GYoomBtA=s64",
      "userId": "07887260677890672048"
     },
     "user_tz": -330
    },
    "id": "FB4IfxNavcxy",
    "outputId": "120e1596-dde5-4a58-b484-c079e454d67d"
   },
   "outputs": [],
   "source": [
    "history_dict = history.history\n",
    "\n",
    "\n",
    "acc = history_dict['acc']\n",
    "val_acc = history_dict['val_acc']\n",
    "loss = history_dict['loss']\n",
    "val_loss = history_dict['val_loss']\n",
    "\n",
    "epochs = range(1, len(acc) + 1)\n",
    "\n",
    "# \"bo\" is for \"blue dot\"\n",
    "plt.plot(epochs, loss, 'bo', label='Training loss')\n",
    "# b is for \"solid blue line\"\n",
    "plt.plot(epochs, val_loss, 'b', label='Validation loss')\n",
    "plt.title('Training and validation loss')\n",
    "plt.xlabel('Epochs')\n",
    "plt.ylabel('Loss')\n",
    "plt.legend()\n",
    "\n",
    "plt.show()\n"
   ]
  },
  {
   "cell_type": "code",
   "execution_count": null,
   "metadata": {
    "colab": {
     "base_uri": "https://localhost:8080/",
     "height": 295
    },
    "colab_type": "code",
    "executionInfo": {
     "elapsed": 115356,
     "status": "ok",
     "timestamp": 1584413175881,
     "user": {
      "displayName": "nYuker",
      "photoUrl": "https://lh3.googleusercontent.com/a-/AOh14GiL6S7ymhC6slqP1-RSNF-WfqBNVR7i50GYoomBtA=s64",
      "userId": "07887260677890672048"
     },
     "user_tz": -330
    },
    "id": "SAZjRxQkx-D0",
    "outputId": "16d5d670-3776-4934-bcbc-4671d45079bc"
   },
   "outputs": [],
   "source": [
    "plt.plot(epochs, acc, 'bo', label='Training acc')\n",
    "plt.plot(epochs, val_acc, 'b', label='Validation acc')\n",
    "plt.title('Training and validation accuracy')\n",
    "plt.xlabel('Epochs')\n",
    "plt.ylabel('Accuracy')\n",
    "plt.legend()\n",
    "\n",
    "plt.show()\n"
   ]
  },
  {
   "cell_type": "code",
   "execution_count": null,
   "metadata": {
    "colab": {
     "base_uri": "https://localhost:8080/",
     "height": 195
    },
    "colab_type": "code",
    "executionInfo": {
     "elapsed": 115349,
     "status": "ok",
     "timestamp": 1584413175881,
     "user": {
      "displayName": "nYuker",
      "photoUrl": "https://lh3.googleusercontent.com/a-/AOh14GiL6S7ymhC6slqP1-RSNF-WfqBNVR7i50GYoomBtA=s64",
      "userId": "07887260677890672048"
     },
     "user_tz": -330
    },
    "id": "BE9wmZjLyKmd",
    "outputId": "740314d7-5155-4e3f-cb20-e1b7b4dce8a9"
   },
   "outputs": [],
   "source": [
    "#reading the steam dataset\n",
    "path='gdrive/My Drive/steam_reviews.csv'\n",
    "data = pd.read_csv(path)\n",
    "data.head()"
   ]
  },
  {
   "cell_type": "code",
   "execution_count": null,
   "metadata": {
    "colab": {},
    "colab_type": "code",
    "id": "7tVMttk8vnqT"
   },
   "outputs": [],
   "source": [
    "from tqdm import tqdm"
   ]
  },
  {
   "cell_type": "code",
   "execution_count": null,
   "metadata": {
    "colab": {},
    "colab_type": "code",
    "id": "aA7FznNPrfJj"
   },
   "outputs": [],
   "source": [
    "reviews = data['review'].values\n",
    "helpful = data['helpful'].values"
   ]
  },
  {
   "cell_type": "code",
   "execution_count": null,
   "metadata": {
    "colab": {
     "base_uri": "https://localhost:8080/",
     "height": 54
    },
    "colab_type": "code",
    "executionInfo": {
     "elapsed": 115336,
     "status": "ok",
     "timestamp": 1584413175882,
     "user": {
      "displayName": "nYuker",
      "photoUrl": "https://lh3.googleusercontent.com/a-/AOh14GiL6S7ymhC6slqP1-RSNF-WfqBNVR7i50GYoomBtA=s64",
      "userId": "07887260677890672048"
     },
     "user_tz": -330
    },
    "id": "v8oTCs1bt0Np",
    "outputId": "66e1f404-4493-44e8-a825-d3e10a138d03"
   },
   "outputs": [],
   "source": [
    "reviews[0]"
   ]
  },
  {
   "cell_type": "code",
   "execution_count": null,
   "metadata": {
    "colab": {
     "base_uri": "https://localhost:8080/",
     "height": 34
    },
    "colab_type": "code",
    "executionInfo": {
     "elapsed": 115330,
     "status": "ok",
     "timestamp": 1584413175882,
     "user": {
      "displayName": "nYuker",
      "photoUrl": "https://lh3.googleusercontent.com/a-/AOh14GiL6S7ymhC6slqP1-RSNF-WfqBNVR7i50GYoomBtA=s64",
      "userId": "07887260677890672048"
     },
     "user_tz": -330
    },
    "id": "R02nBvklsHys",
    "outputId": "0a519d1f-6de1-4cd3-8291-2d439adaf242"
   },
   "outputs": [],
   "source": [
    "labeled_sentiment = []\n",
    "idx =[]\n",
    "for index , i in tqdm(enumerate(reviews[:10000])):\n",
    "  try :\n",
    "    labeled_sentiment.append(classify(i))\n",
    "    idx.append(index)\n",
    "  except:\n",
    "    pass"
   ]
  },
  {
   "cell_type": "code",
   "execution_count": null,
   "metadata": {
    "colab": {
     "base_uri": "https://localhost:8080/",
     "height": 34
    },
    "colab_type": "code",
    "executionInfo": {
     "elapsed": 115323,
     "status": "ok",
     "timestamp": 1584413175883,
     "user": {
      "displayName": "nYuker",
      "photoUrl": "https://lh3.googleusercontent.com/a-/AOh14GiL6S7ymhC6slqP1-RSNF-WfqBNVR7i50GYoomBtA=s64",
      "userId": "07887260677890672048"
     },
     "user_tz": -330
    },
    "id": "EHVzX0ArsqA2",
    "outputId": "8134ff76-e5dc-4c47-c0c3-124fa3292688"
   },
   "outputs": [],
   "source": [
    "final_reviews=[]\n",
    "final_helpful=[]\n",
    "for i in tqdm(range(len(reviews[:10000]))):\n",
    "  if i in idx:\n",
    "    final_reviews.append(reviews[i])\n",
    "    final_helpful.append(helpful[i])"
   ]
  },
  {
   "cell_type": "code",
   "execution_count": null,
   "metadata": {
    "colab": {},
    "colab_type": "code",
    "id": "dyLUd7sstiJm"
   },
   "outputs": [],
   "source": [
    "new_data = pd.DataFrame(data=list(zip(final_helpful,final_reviews,labeled_sentiment)),columns=['helpful','review','sentiment'])"
   ]
  },
  {
   "cell_type": "code",
   "execution_count": null,
   "metadata": {
    "colab": {},
    "colab_type": "code",
    "id": "IWIcmoN7xWwX"
   },
   "outputs": [],
   "source": [
    "reviews = new_data['review'].values\n",
    "label = new_data['sentiment'].values"
   ]
  },
  {
   "cell_type": "code",
   "execution_count": null,
   "metadata": {
    "colab": {
     "base_uri": "https://localhost:8080/",
     "height": 34
    },
    "colab_type": "code",
    "executionInfo": {
     "elapsed": 115311,
     "status": "ok",
     "timestamp": 1584413175884,
     "user": {
      "displayName": "nYuker",
      "photoUrl": "https://lh3.googleusercontent.com/a-/AOh14GiL6S7ymhC6slqP1-RSNF-WfqBNVR7i50GYoomBtA=s64",
      "userId": "07887260677890672048"
     },
     "user_tz": -330
    },
    "id": "OnNNZJ2gxoxu",
    "outputId": "12a0fa50-f8f9-4b51-f682-63c71ed28a97"
   },
   "outputs": [],
   "source": [
    "word_dict={}\n",
    "val=1\n",
    "for i in tqdm(reviews):\n",
    "  for j in i.split():\n",
    "    if j not in word_dict:\n",
    "      word_dict[j]=val\n",
    "      val+=1\n"
   ]
  },
  {
   "cell_type": "code",
   "execution_count": null,
   "metadata": {
    "colab": {},
    "colab_type": "code",
    "id": "CLeGbgMqzsZ9"
   },
   "outputs": [],
   "source": [
    "word_dict['<PAD>']=0\n",
    "word_dict['<START>']=val\n",
    "word_dict['<UNK>'] = len(word_dict)"
   ]
  },
  {
   "cell_type": "code",
   "execution_count": null,
   "metadata": {
    "colab": {
     "base_uri": "https://localhost:8080/",
     "height": 34
    },
    "colab_type": "code",
    "executionInfo": {
     "elapsed": 115302,
     "status": "ok",
     "timestamp": 1584413175884,
     "user": {
      "displayName": "nYuker",
      "photoUrl": "https://lh3.googleusercontent.com/a-/AOh14GiL6S7ymhC6slqP1-RSNF-WfqBNVR7i50GYoomBtA=s64",
      "userId": "07887260677890672048"
     },
     "user_tz": -330
    },
    "id": "otBGQBccz8Fx",
    "outputId": "e8128354-febc-496d-f90b-4fa514bcf73c"
   },
   "outputs": [],
   "source": [
    "train_data =[]\n",
    "for i in tqdm(reviews):\n",
    "  sent = [word_dict['<START>']]\n",
    "  for j in i.split():\n",
    "    sent.append(word_dict[j])\n",
    "  train_data.append(sent)\n",
    "  "
   ]
  },
  {
   "cell_type": "code",
   "execution_count": null,
   "metadata": {
    "colab": {},
    "colab_type": "code",
    "id": "D3J-XhB61IE0"
   },
   "outputs": [],
   "source": [
    "train_data = keras.preprocessing.sequence.pad_sequences(train_data,\n",
    "                                                        value=word_dict[\"<PAD>\"],\n",
    "                                                        padding='post',\n",
    "                                                        maxlen=256)"
   ]
  },
  {
   "cell_type": "code",
   "execution_count": null,
   "metadata": {
    "colab": {},
    "colab_type": "code",
    "id": "80TmIkFv2vGE"
   },
   "outputs": [],
   "source": [
    "train_out =[]\n",
    "for i in label:\n",
    "  if i == 'negative':\n",
    "    train_out.append(0)\n",
    "  else:\n",
    "    train_out.append(1)"
   ]
  },
  {
   "cell_type": "markdown",
   "metadata": {
    "colab_type": "text",
    "id": "mJqNNO5H_HDX"
   },
   "source": [
    "The neural_network() method is the base architechture that we are going to use to train our model "
   ]
  },
  {
   "cell_type": "code",
   "execution_count": null,
   "metadata": {
    "colab": {},
    "colab_type": "code",
    "id": "UQN1P9Xe1jYJ"
   },
   "outputs": [],
   "source": [
    "def neural_network(drop=0.2):\n",
    "  model = Sequential()\n",
    "\n",
    "  model.add(keras.layers.Embedding(len(word_dict),16))\n",
    "  model.add(keras.layers.GlobalAveragePooling1D())\n",
    "\n",
    "  model.add(keras.layers.Dense(32,activation='relu'))\n",
    "  model.add(keras.layers.Dense(64,activation='relu'))\n",
    "  model.add(keras.layers.Dropout(drop))\n",
    "\n",
    "  model.add(keras.layers.Dense(1,activation='sigmoid'))\n",
    "\n",
    "  return model"
   ]
  },
  {
   "cell_type": "markdown",
   "metadata": {
    "colab_type": "text",
    "id": "zhNWdCrO9kjF"
   },
   "source": [
    "# **Harris Hawks Optimization Algorithm**"
   ]
  },
  {
   "cell_type": "code",
   "execution_count": null,
   "metadata": {
    "colab": {},
    "colab_type": "code",
    "id": "CedWqAbw16-V"
   },
   "outputs": [],
   "source": [
    "class HHO():\n",
    "  \n",
    "  def __init__(self,N,T,nfeatures,pop=[]):\n",
    "    self.N=N\n",
    "    self.T=T\n",
    "    self.n_features = nfeatures\n",
    "    if len(pop)==0:\n",
    "      self.population = np.random.random((self.N,self.n_features))\n",
    "    else:\n",
    "      self.population=pop[:]\n",
    "    self.best_fitness =0\n",
    "    \n",
    "    \n",
    "  def optimize(self):\n",
    "    \n",
    "    self.UB=len(self.population)-1\n",
    "    self.LB =0\n",
    "    i=0\n",
    "    for i in tqdm(range(self.T)):\n",
    "      \n",
    "      if i==0:\n",
    "        print()\n",
    "      fits = []\n",
    "      \n",
    "      for j in range(len(self.population)):\n",
    "          if i !=0:\n",
    "            indi_drop = self.sigmoid(self.population[j][0])\n",
    "          else:\n",
    "            indi_drop = self.population[j][0]\n",
    "          model =neural_network(indi_drop)\n",
    "          model.compile(optimizer='adam',loss='mse',metrics=['acc'])\n",
    "          history = model.fit(train_data,train_out,epochs=1,batch_size=8)\n",
    "          acc =history.history['acc'][0]\n",
    "          fits.append(acc)\n",
    "          best_fitness = max(fits)\n",
    "          if acc >=best_fitness:\n",
    "            index = j\n",
    "            self.best_fitness = best_fitness\n",
    "\n",
    "      \n",
    "      if i!=0:\n",
    "        self.rabbit = self.population[index][0]\n",
    "      else:\n",
    "        self.rabbit = self.sigmoid(self.population[index][0])\n",
    "      print()\n",
    "      print(\"Dropout selected from Iteration \",i+1,\" : \",self.rabbit)\n",
    "      print()\n",
    "      for t,hawk in enumerate(self.population) :\n",
    "        \n",
    "        E=2*np.random.rand() -1\n",
    "        J = 2*(1 - np.random.rand())\n",
    "        \n",
    "        E = self.update_E(E,i+1)\n",
    "        \n",
    "        if np.abs(E) >= 1:\n",
    "          self.exploration(t)\n",
    "        \n",
    "        if np.abs(E) < 1:\n",
    "          \n",
    "          r=np.random.rand()\n",
    "          \n",
    "          if r>=0.5 and np.abs(E)>=0.5 :\n",
    "            #update vector using eqn(4)\n",
    "            self.soft_baise(t,E,J)\n",
    "          elif r>=0.5 and np.abs(E) <0.5:\n",
    "            #update vector using eqn (6)\n",
    "            self.hard_baise(t,E)\n",
    "          elif r<0.5 and np.abs(E) >=0.5:\n",
    "            #update vector using eqn (10)\n",
    "            self.soft_baise_dive(t,E,J)\n",
    "          elif r<0.5 and np.abs(E) <0.5:\n",
    "            #update vector using eqn (11)\n",
    "            self.hard_baise_dive(t,E,J)\n",
    "           \n",
    "      #print(\"\\t Best fitness value in this iteration = \",best_fitness) \n",
    "      #print(\"best rabbit in this iteration : \",self.rabbit)\n",
    "    \n",
    "    return self.rabbit,index\n",
    "\n",
    "  def update_E(self,E,t):\n",
    "    E = 2 * E *(1 - t/self.T)\n",
    "    return E\n",
    "  \n",
    "  def soft_baise(self,t,E,J):\n",
    "    del_x = self.rabbit - self.population[t]\n",
    "    \n",
    "    self.population[(t+1)%self.UB+1]= del_x  - E * np.abs( J * self.rabbit - self.population[t] )\n",
    "  \n",
    "  def hard_baise(self,t,E):\n",
    "    del_x = self.rabbit - self.population[t]\n",
    "    \n",
    "    self.population[(t+1)%self.UB+1] = self.rabbit - E * np.abs(del_x)\n",
    "  \n",
    "  def soft_baise_dive(self,t,E,J):\n",
    "    Y = self.rabbit - E* np.abs(J * self.rabbit - self.population[t])\n",
    "    \n",
    "    s = np.random.randn(1,self.n_features)\n",
    "    \n",
    "    u=np.random.random()\n",
    "    v= np.random.random()\n",
    "    \n",
    "    std = np.std(self.population[t])\n",
    "    beta = 1/1.5\n",
    "    \n",
    "    lf= 0.01 * u * std /(np.abs(v)**beta)\n",
    "    \n",
    "    Z = Y + s * lf\n",
    "    \n",
    "    if self.fitness(Y) < self.fitness(self.population[t]):\n",
    "      self.population[(t+1)%self.UB+1] = Y\n",
    "    elif self.fitness(Z) < self.fitness(self.population[t]):\n",
    "      self.population[(t+1)%self.UB+1] = Z\n",
    "  \n",
    "  def hard_baise_dive(self,t,E,J):\n",
    "    avg=0  \n",
    "    for i in self.population:\n",
    "      avg+=i\n",
    "  \n",
    "    pop = len(self.population)\n",
    "    avg=avg/pop\n",
    "    \n",
    "    \n",
    "    Y = self.rabbit - E* np.abs(J*self.rabbit - avg)\n",
    "    s = np.random.randn(1,self.n_features)\n",
    "    \n",
    "    u=np.random.random()\n",
    "    v= np.random.random()\n",
    "    \n",
    "    std = np.std(self.population[t])\n",
    "    beta = 1/1.5\n",
    "    \n",
    "    lf= 0.01 * u * std /(np.abs(v)**beta)\n",
    "    \n",
    "    Z = Y + s * lf\n",
    "    \n",
    "    if self.fitness(Y) < self.fitness(self.population[t]):\n",
    "      self.population[(t+1)%self.UB+1] = Y\n",
    "    elif self.fitness(Z) < self.fitness(self.population[t]):\n",
    "      self.population[(t+1)%self.UB+1] = Z\n",
    "  \n",
    "  def exploration(self,t):\n",
    "    q = np.random.random()\n",
    "    r1= np.random.random()\n",
    "    r2= np.random.random()\n",
    "    r3= np.random.random()\n",
    "    r4= np.random.random()\n",
    "  \n",
    "    avg=0  \n",
    "    for i in self.population:\n",
    "      avg+=i\n",
    "  \n",
    "    pop = len(self.population)\n",
    "    avg=avg/pop\n",
    "   \n",
    "    k = np.random.randint(low=0,high=pop-1)\n",
    "    if q >= 0.5 :\n",
    "      self.population[(t+1)%pop] = self.population[k] -r1 * (self.population[k] - 2* r2 *self.population[t])\n",
    "    else :\n",
    "      self.population[(t+1)%pop] = (self.rabbit - avg) - r3 *( 0 + r4 * (pop-1 - 0))\n",
    "    \n",
    "  def fitness(self,hawk):\n",
    "    sum=np.mean(hawk)\n",
    "    return sum\n",
    "\n",
    "  def sigmoid(self,x):\n",
    "    return 1/(1+np.exp(-x))"
   ]
  },
  {
   "cell_type": "code",
   "execution_count": null,
   "metadata": {
    "colab": {},
    "colab_type": "code",
    "id": "bccat0Rn2tKW"
   },
   "outputs": [],
   "source": [
    "def create_population(pop_size):\n",
    "  pop=[]\n",
    "  for i in range(pop_size):\n",
    "    individual=[]\n",
    "    dropout = np.random.random()\n",
    "    individual.append(dropout)\n",
    "    pop.append(individual)\n",
    "  return np.array(pop,dtype='float32')"
   ]
  },
  {
   "cell_type": "code",
   "execution_count": null,
   "metadata": {
    "colab": {
     "base_uri": "https://localhost:8080/",
     "height": 118
    },
    "colab_type": "code",
    "executionInfo": {
     "elapsed": 115593,
     "status": "ok",
     "timestamp": 1584413176194,
     "user": {
      "displayName": "nYuker",
      "photoUrl": "https://lh3.googleusercontent.com/a-/AOh14GiL6S7ymhC6slqP1-RSNF-WfqBNVR7i50GYoomBtA=s64",
      "userId": "07887260677890672048"
     },
     "user_tz": -330
    },
    "id": "Kkx5LToN2ypM",
    "outputId": "51cb163b-5b03-4334-d205-5b971d458f98"
   },
   "outputs": [],
   "source": [
    "print(create_population(5))\n",
    "pop = create_population(25)\n",
    "print('length : ',len(pop))"
   ]
  },
  {
   "cell_type": "code",
   "execution_count": null,
   "metadata": {
    "colab": {
     "base_uri": "https://localhost:8080/",
     "height": 1000
    },
    "colab_type": "code",
    "executionInfo": {
     "elapsed": 868193,
     "status": "ok",
     "timestamp": 1584413928799,
     "user": {
      "displayName": "nYuker",
      "photoUrl": "https://lh3.googleusercontent.com/a-/AOh14GiL6S7ymhC6slqP1-RSNF-WfqBNVR7i50GYoomBtA=s64",
      "userId": "07887260677890672048"
     },
     "user_tz": -330
    },
    "id": "PO3BZIfv21_9",
    "outputId": "cab87d06-8e8e-4bc4-bd31-1017d1080f2d"
   },
   "outputs": [],
   "source": [
    "opt = HHO(len(pop),2,1,pop)\n",
    "optimized_dropout = opt.optimize()"
   ]
  },
  {
   "cell_type": "code",
   "execution_count": null,
   "metadata": {
    "colab": {
     "base_uri": "https://localhost:8080/",
     "height": 34
    },
    "colab_type": "code",
    "executionInfo": {
     "elapsed": 868194,
     "status": "ok",
     "timestamp": 1584413928805,
     "user": {
      "displayName": "nYuker",
      "photoUrl": "https://lh3.googleusercontent.com/a-/AOh14GiL6S7ymhC6slqP1-RSNF-WfqBNVR7i50GYoomBtA=s64",
      "userId": "07887260677890672048"
     },
     "user_tz": -330
    },
    "id": "KlkaC-qK9Xqa",
    "outputId": "cdae6461-4f14-4dda-8b2f-3bd367d6d89f"
   },
   "outputs": [],
   "source": [
    "print(\"Optimized Dropout : \",optimized_dropout)"
   ]
  },
  {
   "cell_type": "markdown",
   "metadata": {
    "colab_type": "text",
    "id": "cHnxe1f_-Dki"
   },
   "source": [
    "#**Training Our Main Model** "
   ]
  },
  {
   "cell_type": "code",
   "execution_count": null,
   "metadata": {
    "colab": {},
    "colab_type": "code",
    "id": "XJn0FuzS5blD"
   },
   "outputs": [],
   "source": [
    "import keras"
   ]
  },
  {
   "cell_type": "code",
   "execution_count": null,
   "metadata": {
    "colab": {
     "base_uri": "https://localhost:8080/",
     "height": 874
    },
    "colab_type": "code",
    "executionInfo": {
     "elapsed": 1151663,
     "status": "ok",
     "timestamp": 1584414212281,
     "user": {
      "displayName": "nYuker",
      "photoUrl": "https://lh3.googleusercontent.com/a-/AOh14GiL6S7ymhC6slqP1-RSNF-WfqBNVR7i50GYoomBtA=s64",
      "userId": "07887260677890672048"
     },
     "user_tz": -330
    },
    "id": "Km-6zfro2tp8",
    "outputId": "d5de448f-e126-445a-ae99-32dc2a83db32"
   },
   "outputs": [],
   "source": [
    "model = neural_network(0)\n",
    "model.compile(loss='mse',optimizer='adam',metrics=['acc'])\n",
    "h1 = model.fit(train_data,train_out,epochs=25,validation_split=0.2,batch_size=8)"
   ]
  },
  {
   "cell_type": "code",
   "execution_count": null,
   "metadata": {
    "colab": {
     "base_uri": "https://localhost:8080/",
     "height": 874
    },
    "colab_type": "code",
    "executionInfo": {
     "elapsed": 1446325,
     "status": "ok",
     "timestamp": 1584414506948,
     "user": {
      "displayName": "nYuker",
      "photoUrl": "https://lh3.googleusercontent.com/a-/AOh14GiL6S7ymhC6slqP1-RSNF-WfqBNVR7i50GYoomBtA=s64",
      "userId": "07887260677890672048"
     },
     "user_tz": -330
    },
    "id": "zoI0RcPPAmiL",
    "outputId": "a45227f1-a9e7-4b6e-c9d3-99fe8680510b"
   },
   "outputs": [],
   "source": [
    "model = neural_network(2)\n",
    "model.compile(loss='mse',optimizer='adam',metrics=['acc'])\n",
    "h2 = model.fit(train_data,train_out,epochs=25,validation_split=0.2,batch_size=8)"
   ]
  },
  {
   "cell_type": "markdown",
   "metadata": {
    "colab": {
     "base_uri": "https://localhost:8080/",
     "height": 874
    },
    "colab_type": "code",
    "executionInfo": {
     "elapsed": 1736376,
     "status": "ok",
     "timestamp": 1584414797003,
     "user": {
      "displayName": "nYuker",
      "photoUrl": "https://lh3.googleusercontent.com/a-/AOh14GiL6S7ymhC6slqP1-RSNF-WfqBNVR7i50GYoomBtA=s64",
      "userId": "07887260677890672048"
     },
     "user_tz": -330
    },
    "id": "NHo6hyDYAnho",
    "outputId": "d0e491a4-16d3-405a-b9ce-1b444d1c7bf1"
   },
   "source": [
    "### model = neural_network(0.271245)\n",
    "model.compile(loss='mse',optimizer='adam',metrics=['acc'])\n",
    "h3 = model.fit(train_data,train_out,epochs=25,validation_split=0.2,batch_size=8)"
   ]
  },
  {
   "cell_type": "code",
   "execution_count": null,
   "metadata": {},
   "outputs": [],
   "source": []
  },
  {
   "cell_type": "code",
   "execution_count": null,
   "metadata": {
    "colab": {},
    "colab_type": "code",
    "id": "bUoQS7KT3cHo"
   },
   "outputs": [],
   "source": [
    "def encode(text):\n",
    "  out =[word_dict['<START>']]\n",
    "  for i in text.split():\n",
    "    if i in word_dict:\n",
    "      out.append(word_dict[i])\n",
    "    else:\n",
    "      out.append(word_dict['<UNK>'])\n",
    "      \n",
    "  return out"
   ]
  },
  {
   "cell_type": "code",
   "execution_count": null,
   "metadata": {
    "colab": {
     "base_uri": "https://localhost:8080/",
     "height": 34
    },
    "colab_type": "code",
    "executionInfo": {
     "elapsed": 1736370,
     "status": "ok",
     "timestamp": 1584414797004,
     "user": {
      "displayName": "nYuker",
      "photoUrl": "https://lh3.googleusercontent.com/a-/AOh14GiL6S7ymhC6slqP1-RSNF-WfqBNVR7i50GYoomBtA=s64",
      "userId": "07887260677890672048"
     },
     "user_tz": -330
    },
    "id": "3kBndW785R-C",
    "outputId": "8d358df3-2397-4748-b0f6-dffc2a2db91a"
   },
   "outputs": [],
   "source": [
    "encode('this is not good')"
   ]
  },
  {
   "cell_type": "code",
   "execution_count": null,
   "metadata": {
    "colab": {},
    "colab_type": "code",
    "id": "PgTVbwjw4_Hl"
   },
   "outputs": [],
   "source": [
    "def classify(text):\n",
    "  emb = keras.preprocessing.sequence.pad_sequences([encode(text)],\n",
    "                                                  value=word_dict['<PAD>'],\n",
    "                                                  padding='post',\n",
    "                                                  maxlen=256)\n",
    "  \n",
    "  pred = model.predict(emb)\n",
    "  \n",
    "  #print(\"prediction obtained : \", pred)\n",
    "  \n",
    "  if (pred*100) >50.0 :\n",
    "    #print(\"Positive review\")\n",
    "    return \"positive\"\n",
    "  else:\n",
    "    #print(\"Negative review\")\n",
    "    return \"negative\"\n",
    " "
   ]
  },
  {
   "cell_type": "code",
   "execution_count": null,
   "metadata": {
    "colab": {
     "base_uri": "https://localhost:8080/",
     "height": 34
    },
    "colab_type": "code",
    "executionInfo": {
     "elapsed": 1738650,
     "status": "ok",
     "timestamp": 1584414799293,
     "user": {
      "displayName": "nYuker",
      "photoUrl": "https://lh3.googleusercontent.com/a-/AOh14GiL6S7ymhC6slqP1-RSNF-WfqBNVR7i50GYoomBtA=s64",
      "userId": "07887260677890672048"
     },
     "user_tz": -330
    },
    "id": "A0Ff80s65Fgy",
    "outputId": "7979e473-a0f9-4eff-db8f-4562104ad9c5"
   },
   "outputs": [],
   "source": [
    "classify('bad gaME')"
   ]
  },
  {
   "cell_type": "code",
   "execution_count": null,
   "metadata": {
    "colab": {},
    "colab_type": "code",
    "id": "UgGECjMN5Inm"
   },
   "outputs": [],
   "source": [
    "import matplotlib.pyplot as plt\n",
    "%matplotlib inline"
   ]
  },
  {
   "cell_type": "code",
   "execution_count": null,
   "metadata": {
    "colab": {
     "base_uri": "https://localhost:8080/",
     "height": 70
    },
    "colab_type": "code",
    "executionInfo": {
     "elapsed": 1738642,
     "status": "ok",
     "timestamp": 1584414799294,
     "user": {
      "displayName": "nYuker",
      "photoUrl": "https://lh3.googleusercontent.com/a-/AOh14GiL6S7ymhC6slqP1-RSNF-WfqBNVR7i50GYoomBtA=s64",
      "userId": "07887260677890672048"
     },
     "user_tz": -330
    },
    "id": "ldYKK_8c0q_s",
    "outputId": "74aa574c-0c66-4fc0-c38b-5b54eab2474a"
   },
   "outputs": [],
   "source": [
    "y = list(range(1,26))\n",
    "\n",
    "print(y)\n",
    "print(h1.history['acc'])"
   ]
  },
  {
   "cell_type": "code",
   "execution_count": null,
   "metadata": {
    "colab": {
     "base_uri": "https://localhost:8080/",
     "height": 282
    },
    "colab_type": "code",
    "executionInfo": {
     "elapsed": 1738638,
     "status": "ok",
     "timestamp": 1584414799294,
     "user": {
      "displayName": "nYuker",
      "photoUrl": "https://lh3.googleusercontent.com/a-/AOh14GiL6S7ymhC6slqP1-RSNF-WfqBNVR7i50GYoomBtA=s64",
      "userId": "07887260677890672048"
     },
     "user_tz": -330
    },
    "id": "G3MxBQ8C02Yh",
    "outputId": "d3044b35-8ad0-4653-bb8a-842185d64951"
   },
   "outputs": [],
   "source": [
    "plt.plot(y,h1.history['val_acc'])\n",
    "plt.plot(y,h2.history['val_acc'])\n",
    "plt.plot(y,h3.history['val_acc'])\n",
    "\n",
    "plt.legend(['No Dropout','Constant Dropout','With HHO'])"
   ]
  },
  {
   "cell_type": "code",
   "execution_count": null,
   "metadata": {
    "colab": {},
    "colab_type": "code",
    "id": "6mym9stO-rca"
   },
   "outputs": [],
   "source": []
  },
  {
   "cell_type": "code",
   "execution_count": null,
   "metadata": {
    "colab": {
     "base_uri": "https://localhost:8080/",
     "height": 296
    },
    "colab_type": "code",
    "executionInfo": {
     "elapsed": 1739080,
     "status": "ok",
     "timestamp": 1584414799743,
     "user": {
      "displayName": "nYuker",
      "photoUrl": "https://lh3.googleusercontent.com/a-/AOh14GiL6S7ymhC6slqP1-RSNF-WfqBNVR7i50GYoomBtA=s64",
      "userId": "07887260677890672048"
     },
     "user_tz": -330
    },
    "id": "6C5Yv1MP0_A4",
    "outputId": "7337f2a7-e0fe-4f5f-b009-2b2c19dc5c6a"
   },
   "outputs": [],
   "source": [
    "plt.boxplot([h1.history['val_acc'],h2.history['val_acc'],h3.history['val_acc']])\n",
    "plt.xlabel(['No Dropout','Constant Dropout','with HHO dropout'])"
   ]
  },
  {
   "cell_type": "code",
   "execution_count": null,
   "metadata": {
    "colab": {
     "base_uri": "https://localhost:8080/",
     "height": 67
    },
    "colab_type": "code",
    "executionInfo": {
     "elapsed": 1739077,
     "status": "ok",
     "timestamp": 1584414799744,
     "user": {
      "displayName": "nYuker",
      "photoUrl": "https://lh3.googleusercontent.com/a-/AOh14GiL6S7ymhC6slqP1-RSNF-WfqBNVR7i50GYoomBtA=s64",
      "userId": "07887260677890672048"
     },
     "user_tz": -330
    },
    "id": "z3xJOEzu2DGy",
    "outputId": "2c41a7e7-b44f-4df6-a3e1-542df4577dca"
   },
   "outputs": [],
   "source": [
    "print('No Dropout       : ',max(h1.history['val_acc']))\n",
    "print('Constant Dropout : ',max(h2.history['val_acc']))\n",
    "print('with HHO dropout : ',max(h3.history['val_acc']))"
   ]
  },
  {
   "cell_type": "code",
   "execution_count": null,
   "metadata": {
    "colab": {},
    "colab_type": "code",
    "id": "LIo8O0fPDk-O"
   },
   "outputs": [],
   "source": []
  },
  {
   "cell_type": "code",
   "execution_count": null,
   "metadata": {
    "colab": {
     "base_uri": "https://localhost:8080/",
     "height": 34
    },
    "colab_type": "code",
    "executionInfo": {
     "elapsed": 1739073,
     "status": "ok",
     "timestamp": 1584414799744,
     "user": {
      "displayName": "nYuker",
      "photoUrl": "https://lh3.googleusercontent.com/a-/AOh14GiL6S7ymhC6slqP1-RSNF-WfqBNVR7i50GYoomBtA=s64",
      "userId": "07887260677890672048"
     },
     "user_tz": -330
    },
    "id": "DDdA5D3wsArj",
    "outputId": "2fc61dc8-1516-463a-9a80-c149b32d0cf5"
   },
   "outputs": [],
   "source": [
    "optimized_dropout"
   ]
  },
  {
   "cell_type": "code",
   "execution_count": null,
   "metadata": {
    "colab": {},
    "colab_type": "code",
    "id": "34joKhC5APMu"
   },
   "outputs": [],
   "source": []
  }
 ],
 "metadata": {
  "colab": {
   "collapsed_sections": [
    "zhNWdCrO9kjF",
    "cHnxe1f_-Dki"
   ],
   "name": "San_Vinoth_Project(1) (4).ipynb",
   "provenance": []
  },
  "kernelspec": {
   "display_name": "Python 3",
   "language": "python",
   "name": "python3"
  },
  "language_info": {
   "codemirror_mode": {
    "name": "ipython",
    "version": 3
   },
   "file_extension": ".py",
   "mimetype": "text/x-python",
   "name": "python",
   "nbconvert_exporter": "python",
   "pygments_lexer": "ipython3",
   "version": "3.7.3"
  }
 },
 "nbformat": 4,
 "nbformat_minor": 1
}
